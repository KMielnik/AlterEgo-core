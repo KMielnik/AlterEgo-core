{
  "nbformat": 4,
  "nbformat_minor": 0,
  "metadata": {
    "colab": {
      "name": "AlterEgo-core-demo.ipynb",
      "provenance": [],
      "collapsed_sections": []
    },
    "kernelspec": {
      "name": "python3",
      "display_name": "Python 3"
    },
    "accelerator": "GPU"
  },
  "cells": [
    {
      "cell_type": "markdown",
      "metadata": {
        "id": "-zzeCNNWyGSs",
        "colab_type": "text"
      },
      "source": [
        "# AlterEgo-core\n",
        "\n",
        "Jupiter notebook for https://github.com/KMielnik/AlterEgo-core"
      ]
    },
    {
      "cell_type": "markdown",
      "metadata": {
        "id": "yDF5Iw9tyYFt",
        "colab_type": "text"
      },
      "source": [
        "## 1. Run code below to prepare machine "
      ]
    },
    {
      "cell_type": "code",
      "metadata": {
        "id": "YRs9iHLmbXLk",
        "colab_type": "code",
        "colab": {}
      },
      "source": [
        "!git clone https://github.com/KMielnik/AlterEgo-core\n",
        "%cd AlterEgo-core\n",
        "!gdown --id 1X1iCdyghN09XaLPYCFkDMbrKnCb-hzJS -O model/vox-cpk.pth.tar\n",
        "pip install -r requirements.txt"
      ],
      "execution_count": 0,
      "outputs": []
    },
    {
      "cell_type": "markdown",
      "metadata": {
        "id": "A3DKAWx-yhBu",
        "colab_type": "text"
      },
      "source": [
        "## 2. Go to files and upload your images and videos, then input their names in code below\n"
      ]
    },
    {
      "cell_type": "markdown",
      "metadata": {
        "id": "DPgY18zty8A-",
        "colab_type": "text"
      },
      "source": [
        "## 3. Execute modified code"
      ]
    },
    {
      "cell_type": "code",
      "metadata": {
        "id": "vNRw48spc7OR",
        "colab_type": "code",
        "colab": {}
      },
      "source": [
        "!python run.py --gpu --crop --find_best_frame --audio --driving_video source.mp4 --source_image source.jpg --result_video result.mp4"
      ],
      "execution_count": 0,
      "outputs": []
    }
  ]
}